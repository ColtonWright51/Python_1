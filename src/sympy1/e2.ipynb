{
 "cells": [
  {
   "cell_type": "code",
   "execution_count": 2,
   "metadata": {},
   "outputs": [
    {
     "name": "stdout",
     "output_type": "stream",
     "text": [
      "  ∂               ∂                      \n",
      "a⋅──(f(x, y)) + b⋅──(f(x, y)) + c⋅f(x, y)\n",
      "  ∂x              ∂y                     \n",
      "                         -c⋅(a⋅x + b⋅y) \n",
      "                         ───────────────\n",
      "                              2    2    \n",
      "                             a  + b     \n",
      "f(x, y) = F(-a⋅y + b⋅x)⋅ℯ               \n"
     ]
    }
   ],
   "source": [
    "from sympy.solvers import pdsolve\n",
    "from sympy.abc import x, y, a, b, c\n",
    "from sympy import Function, pprint\n",
    "f = Function('f')\n",
    "u = f(x,y)\n",
    "ux = u.diff(x)\n",
    "uy = u.diff(y)\n",
    "genform = a*ux + b*uy + c*u\n",
    "pprint(genform)\n",
    "\n",
    "pprint(pdsolve(genform))"
   ]
  },
  {
   "cell_type": "code",
   "execution_count": null,
   "metadata": {},
   "outputs": [],
   "source": []
  },
  {
   "cell_type": "code",
   "execution_count": 3,
   "metadata": {},
   "outputs": [
    {
     "name": "stdout",
     "output_type": "stream",
     "text": [
      "  ∂               ∂                                \n",
      "a⋅──(f(x, y)) + b⋅──(f(x, y)) + c⋅f(x, y) - G(x, y)\n",
      "  ∂x              ∂y                               \n",
      "          ⎛⎛       a⋅x + b⋅y                                     ⎞         ⎞│ \n",
      "          ⎜⎜           ⌠                                         ⎟         ⎟│ \n",
      "          ⎜⎜           ⎮                                 c⋅ξ     ⎟         ⎟│ \n",
      "          ⎜⎜           ⎮                               ───────   ⎟         ⎟│ \n",
      "          ⎜⎜           ⎮                                2    2   ⎟         ⎟│ \n",
      "          ⎜⎜           ⎮      ⎛a⋅ξ + b⋅η  -a⋅η + b⋅ξ⎞  a  + b    ⎟         ⎟│ \n",
      "          ⎜⎜           ⎮     G⎜─────────, ──────────⎟⋅ℯ        dξ⎟         ⎟│ \n",
      "          ⎜⎜           ⎮      ⎜  2    2     2    2  ⎟            ⎟   -c⋅ξ  ⎟│ \n",
      "          ⎜⎜           ⎮      ⎝ a  + b     a  + b   ⎠            ⎟  ───────⎟│ \n",
      "          ⎜⎜           ⌡                                         ⎟   2    2⎟│ \n",
      "          ⎜⎜                                                     ⎟  a  + b ⎟│ \n",
      "f(x, y) = ⎜⎜F(η) + ──────────────────────────────────────────────⎟⋅ℯ       ⎟│ \n",
      "          ⎜⎜                           2    2                    ⎟         ⎟│ \n",
      "          ⎝⎝                          a  + b                     ⎠         ⎠│η\n",
      "\n",
      "                        \n",
      "                        \n",
      "                        \n",
      "                        \n",
      "                        \n",
      "                        \n",
      "                        \n",
      "                        \n",
      "                        \n",
      "                        \n",
      "                        \n",
      "                        \n",
      "                        \n",
      "=-a⋅y + b⋅x, ξ=a⋅x + b⋅y\n"
     ]
    }
   ],
   "source": [
    "from sympy.solvers import pdsolve\n",
    "from sympy.abc import x, y, a, b, c\n",
    "from sympy import Function, pprint\n",
    "f = Function('f')\n",
    "G = Function('G')\n",
    "u = f(x,y)\n",
    "ux = u.diff(x)\n",
    "uy = u.diff(y)\n",
    "genform = a*ux + b*uy + c*u - G(x,y)\n",
    "pprint(genform)\n",
    "pprint(pdsolve(genform, hint='1st_linear_constant_coeff_Integral'))\n"
   ]
  }
 ],
 "metadata": {
  "kernelspec": {
   "display_name": ".venv",
   "language": "python",
   "name": "python3"
  },
  "language_info": {
   "codemirror_mode": {
    "name": "ipython",
    "version": 3
   },
   "file_extension": ".py",
   "mimetype": "text/x-python",
   "name": "python",
   "nbconvert_exporter": "python",
   "pygments_lexer": "ipython3",
   "version": "3.10.6 (main, Nov 14 2022, 16:10:14) [GCC 11.3.0]"
  },
  "orig_nbformat": 4,
  "vscode": {
   "interpreter": {
    "hash": "670dfaa43f7c8bad65814090e10ad2a1e64d9d08e348ba9bad8d587c789bb6bf"
   }
  }
 },
 "nbformat": 4,
 "nbformat_minor": 2
}
